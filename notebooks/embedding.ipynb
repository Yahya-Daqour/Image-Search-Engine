{
  "nbformat": 4,
  "nbformat_minor": 0,
  "metadata": {
    "colab": {
      "provenance": [],
      "gpuType": "T4"
    },
    "kernelspec": {
      "name": "python3",
      "display_name": "Python 3"
    },
    "language_info": {
      "name": "python"
    },
    "accelerator": "GPU"
  },
  "cells": [
    {
      "cell_type": "code",
      "source": [
        "!pip install faiss-cpu"
      ],
      "metadata": {
        "colab": {
          "base_uri": "https://localhost:8080/"
        },
        "id": "KKRdHmIIjcU7",
        "outputId": "f2fc9e4c-d324-49fa-b272-120c9fe952f6"
      },
      "execution_count": 27,
      "outputs": [
        {
          "output_type": "stream",
          "name": "stdout",
          "text": [
            "Requirement already satisfied: faiss-cpu in /usr/local/lib/python3.11/dist-packages (1.10.0)\n",
            "Requirement already satisfied: numpy<3.0,>=1.25.0 in /usr/local/lib/python3.11/dist-packages (from faiss-cpu) (1.26.4)\n",
            "Requirement already satisfied: packaging in /usr/local/lib/python3.11/dist-packages (from faiss-cpu) (24.2)\n"
          ]
        }
      ]
    },
    {
      "cell_type": "markdown",
      "source": [
        "## Download Data from Kaggle"
      ],
      "metadata": {
        "id": "YubL7ysALh7Z"
      }
    },
    {
      "cell_type": "code",
      "source": [
        "# ! pip install -q kaggle\n",
        "from google.colab import files\n",
        "files.upload()"
      ],
      "metadata": {
        "colab": {
          "base_uri": "https://localhost:8080/",
          "height": 92
        },
        "id": "rdkWydyWKGhl",
        "outputId": "03741af8-04ce-4293-a97a-dbd21e900b8a"
      },
      "execution_count": 28,
      "outputs": [
        {
          "output_type": "display_data",
          "data": {
            "text/plain": [
              "<IPython.core.display.HTML object>"
            ],
            "text/html": [
              "\n",
              "     <input type=\"file\" id=\"files-bae2710f-33fe-4075-baf0-5bd83951d30f\" name=\"files[]\" multiple disabled\n",
              "        style=\"border:none\" />\n",
              "     <output id=\"result-bae2710f-33fe-4075-baf0-5bd83951d30f\">\n",
              "      Upload widget is only available when the cell has been executed in the\n",
              "      current browser session. Please rerun this cell to enable.\n",
              "      </output>\n",
              "      <script>// Copyright 2017 Google LLC\n",
              "//\n",
              "// Licensed under the Apache License, Version 2.0 (the \"License\");\n",
              "// you may not use this file except in compliance with the License.\n",
              "// You may obtain a copy of the License at\n",
              "//\n",
              "//      http://www.apache.org/licenses/LICENSE-2.0\n",
              "//\n",
              "// Unless required by applicable law or agreed to in writing, software\n",
              "// distributed under the License is distributed on an \"AS IS\" BASIS,\n",
              "// WITHOUT WARRANTIES OR CONDITIONS OF ANY KIND, either express or implied.\n",
              "// See the License for the specific language governing permissions and\n",
              "// limitations under the License.\n",
              "\n",
              "/**\n",
              " * @fileoverview Helpers for google.colab Python module.\n",
              " */\n",
              "(function(scope) {\n",
              "function span(text, styleAttributes = {}) {\n",
              "  const element = document.createElement('span');\n",
              "  element.textContent = text;\n",
              "  for (const key of Object.keys(styleAttributes)) {\n",
              "    element.style[key] = styleAttributes[key];\n",
              "  }\n",
              "  return element;\n",
              "}\n",
              "\n",
              "// Max number of bytes which will be uploaded at a time.\n",
              "const MAX_PAYLOAD_SIZE = 100 * 1024;\n",
              "\n",
              "function _uploadFiles(inputId, outputId) {\n",
              "  const steps = uploadFilesStep(inputId, outputId);\n",
              "  const outputElement = document.getElementById(outputId);\n",
              "  // Cache steps on the outputElement to make it available for the next call\n",
              "  // to uploadFilesContinue from Python.\n",
              "  outputElement.steps = steps;\n",
              "\n",
              "  return _uploadFilesContinue(outputId);\n",
              "}\n",
              "\n",
              "// This is roughly an async generator (not supported in the browser yet),\n",
              "// where there are multiple asynchronous steps and the Python side is going\n",
              "// to poll for completion of each step.\n",
              "// This uses a Promise to block the python side on completion of each step,\n",
              "// then passes the result of the previous step as the input to the next step.\n",
              "function _uploadFilesContinue(outputId) {\n",
              "  const outputElement = document.getElementById(outputId);\n",
              "  const steps = outputElement.steps;\n",
              "\n",
              "  const next = steps.next(outputElement.lastPromiseValue);\n",
              "  return Promise.resolve(next.value.promise).then((value) => {\n",
              "    // Cache the last promise value to make it available to the next\n",
              "    // step of the generator.\n",
              "    outputElement.lastPromiseValue = value;\n",
              "    return next.value.response;\n",
              "  });\n",
              "}\n",
              "\n",
              "/**\n",
              " * Generator function which is called between each async step of the upload\n",
              " * process.\n",
              " * @param {string} inputId Element ID of the input file picker element.\n",
              " * @param {string} outputId Element ID of the output display.\n",
              " * @return {!Iterable<!Object>} Iterable of next steps.\n",
              " */\n",
              "function* uploadFilesStep(inputId, outputId) {\n",
              "  const inputElement = document.getElementById(inputId);\n",
              "  inputElement.disabled = false;\n",
              "\n",
              "  const outputElement = document.getElementById(outputId);\n",
              "  outputElement.innerHTML = '';\n",
              "\n",
              "  const pickedPromise = new Promise((resolve) => {\n",
              "    inputElement.addEventListener('change', (e) => {\n",
              "      resolve(e.target.files);\n",
              "    });\n",
              "  });\n",
              "\n",
              "  const cancel = document.createElement('button');\n",
              "  inputElement.parentElement.appendChild(cancel);\n",
              "  cancel.textContent = 'Cancel upload';\n",
              "  const cancelPromise = new Promise((resolve) => {\n",
              "    cancel.onclick = () => {\n",
              "      resolve(null);\n",
              "    };\n",
              "  });\n",
              "\n",
              "  // Wait for the user to pick the files.\n",
              "  const files = yield {\n",
              "    promise: Promise.race([pickedPromise, cancelPromise]),\n",
              "    response: {\n",
              "      action: 'starting',\n",
              "    }\n",
              "  };\n",
              "\n",
              "  cancel.remove();\n",
              "\n",
              "  // Disable the input element since further picks are not allowed.\n",
              "  inputElement.disabled = true;\n",
              "\n",
              "  if (!files) {\n",
              "    return {\n",
              "      response: {\n",
              "        action: 'complete',\n",
              "      }\n",
              "    };\n",
              "  }\n",
              "\n",
              "  for (const file of files) {\n",
              "    const li = document.createElement('li');\n",
              "    li.append(span(file.name, {fontWeight: 'bold'}));\n",
              "    li.append(span(\n",
              "        `(${file.type || 'n/a'}) - ${file.size} bytes, ` +\n",
              "        `last modified: ${\n",
              "            file.lastModifiedDate ? file.lastModifiedDate.toLocaleDateString() :\n",
              "                                    'n/a'} - `));\n",
              "    const percent = span('0% done');\n",
              "    li.appendChild(percent);\n",
              "\n",
              "    outputElement.appendChild(li);\n",
              "\n",
              "    const fileDataPromise = new Promise((resolve) => {\n",
              "      const reader = new FileReader();\n",
              "      reader.onload = (e) => {\n",
              "        resolve(e.target.result);\n",
              "      };\n",
              "      reader.readAsArrayBuffer(file);\n",
              "    });\n",
              "    // Wait for the data to be ready.\n",
              "    let fileData = yield {\n",
              "      promise: fileDataPromise,\n",
              "      response: {\n",
              "        action: 'continue',\n",
              "      }\n",
              "    };\n",
              "\n",
              "    // Use a chunked sending to avoid message size limits. See b/62115660.\n",
              "    let position = 0;\n",
              "    do {\n",
              "      const length = Math.min(fileData.byteLength - position, MAX_PAYLOAD_SIZE);\n",
              "      const chunk = new Uint8Array(fileData, position, length);\n",
              "      position += length;\n",
              "\n",
              "      const base64 = btoa(String.fromCharCode.apply(null, chunk));\n",
              "      yield {\n",
              "        response: {\n",
              "          action: 'append',\n",
              "          file: file.name,\n",
              "          data: base64,\n",
              "        },\n",
              "      };\n",
              "\n",
              "      let percentDone = fileData.byteLength === 0 ?\n",
              "          100 :\n",
              "          Math.round((position / fileData.byteLength) * 100);\n",
              "      percent.textContent = `${percentDone}% done`;\n",
              "\n",
              "    } while (position < fileData.byteLength);\n",
              "  }\n",
              "\n",
              "  // All done.\n",
              "  yield {\n",
              "    response: {\n",
              "      action: 'complete',\n",
              "    }\n",
              "  };\n",
              "}\n",
              "\n",
              "scope.google = scope.google || {};\n",
              "scope.google.colab = scope.google.colab || {};\n",
              "scope.google.colab._files = {\n",
              "  _uploadFiles,\n",
              "  _uploadFilesContinue,\n",
              "};\n",
              "})(self);\n",
              "</script> "
            ]
          },
          "metadata": {}
        },
        {
          "output_type": "stream",
          "name": "stdout",
          "text": [
            "Saving kaggle.json to kaggle (1).json\n"
          ]
        },
        {
          "output_type": "execute_result",
          "data": {
            "text/plain": [
              "{'kaggle (1).json': b'{\"username\":\"yahyadaqour\",\"key\":\"c8d918fe4c652da5bce2d678e2c50605\"}'}"
            ]
          },
          "metadata": {},
          "execution_count": 28
        }
      ]
    },
    {
      "cell_type": "markdown",
      "source": [],
      "metadata": {
        "id": "1K6oq2geLoO_"
      }
    },
    {
      "cell_type": "code",
      "source": [
        "! mkdir ~/.kaggle\n",
        "! cp kaggle.json ~/.kaggle/\n",
        "! chmod 600 ~/.kaggle/kaggle.json\n",
        "! kaggle datasets list"
      ],
      "metadata": {
        "colab": {
          "base_uri": "https://localhost:8080/"
        },
        "id": "VOgDPGMrKWsE",
        "outputId": "4f31d3a8-f311-43cf-8692-5791c1ad6aa0"
      },
      "execution_count": 29,
      "outputs": [
        {
          "output_type": "stream",
          "name": "stdout",
          "text": [
            "mkdir: cannot create directory ‘/root/.kaggle’: File exists\n",
            "ref                                                           title                                              size  lastUpdated          downloadCount  voteCount  usabilityRating  \n",
            "------------------------------------------------------------  ------------------------------------------------  -----  -------------------  -------------  ---------  ---------------  \n",
            "asinow/car-price-dataset                                      Car Price Dataset                                 135KB  2025-01-26 19:53:28           4896         61  1.0              \n",
            "anandshaw2001/netflix-movies-and-tv-shows                     Netflix Movies and TV Shows                         1MB  2025-01-03 10:33:01          15292        399  1.0              \n",
            "ashaychoudhary/diabetes-prediction-in-america-dataset         Diabetes Prediction in America Dataset              2MB  2025-02-04 10:35:49           1238         22  1.0              \n",
            "ashaychoudhary/advertising-campaign-performance-dataset       📊 Advertising Campaign Performance Dataset         51KB  2025-02-03 04:49:29            777         28  1.0              \n",
            "ankushpanday1/alzheimers-prediction-dataset-global            Alzheimer’s Prediction Dataset (Global)             1MB  2025-01-30 14:38:39           1955         34  1.0              \n",
            "xavierberge/road-accident-dataset                             Road Accident dataset                              47MB  2025-02-05 00:32:37           1387         27  0.9411765        \n",
            "ankushpanday1/thyroid-cancer-risk-prediction-dataset          Thyroid Cancer Risk Prediction Dataset              4MB  2025-02-03 14:25:31            964         25  1.0              \n",
            "wlwwwlw/elite-sports-cars-in-data                             Elite Sports Cars in Data                         289KB  2025-02-02 21:23:19            991         28  1.0              \n",
            "ashaychoudhary/anxiety-attack-factors-symptoms-and-severity   Anxiety Attack : Factors, Symptoms, and Severity  244KB  2025-01-19 11:56:21           3817         64  1.0              \n",
            "asinow/laptop-price-dataset                                   Laptop Price Dataset                              181KB  2025-02-01 04:20:16           1181         37  1.0              \n",
            "ankushpanday1/appendix-cancer-prediction-dataset              Appendix Cancer Prediction Dataset                  7MB  2025-02-04 16:01:31            389         26  1.0              \n",
            "arshmankhalid/shopify-streaming-history-dataset               Spotify Streaming History Dataset                   6MB  2025-01-29 05:30:39            986         37  0.9411765        \n",
            "ruchikakumbhar/zomato-dataset                                 Zomato Dataset                                      2KB  2025-01-21 03:59:39           2096         27  1.0              \n",
            "oktayrdeki/traffic-accidents                                  Traffic Accidents                                   5MB  2025-01-20 10:33:44           3524         70  1.0              \n",
            "ankushpanday1/global-road-accidents-dataset                   Global Road Accidents Dataset                      12MB  2025-01-25 04:22:29           2632         63  1.0              \n",
            "himelsarder/road-accident-survival-dataset                    Road Accident Survival Dataset                      1KB  2025-01-18 06:00:32           2551         26  1.0              \n",
            "ahmedmohamed2003/cafe-sales-dirty-data-for-cleaning-training  Cafe Sales - Dirty Data for Cleaning Training     111KB  2025-01-17 19:49:39           3757         68  1.0              \n",
            "asinow/airplane-price-dataset                                 Airplane Price Dataset                            238KB  2025-01-28 18:36:41           2481         39  0.9411765        \n",
            "preethamgouda/air-filter-data                                 Air filter data                                   694KB  2025-02-03 11:53:08            769         24  1.0              \n",
            "sourd810/car-sales-india-2024                                 Car Sales in India - 2024                          97KB  2025-01-16 14:52:08           1976         26  0.8235294        \n"
          ]
        }
      ]
    },
    {
      "cell_type": "code",
      "source": [
        "!pip install opendatasets\n",
        "!pip install pandas"
      ],
      "metadata": {
        "colab": {
          "base_uri": "https://localhost:8080/"
        },
        "id": "ucOtX8ncLDR7",
        "outputId": "ac2417d5-a897-4932-cd3e-4837b59f6d2c"
      },
      "execution_count": 30,
      "outputs": [
        {
          "output_type": "stream",
          "name": "stdout",
          "text": [
            "Requirement already satisfied: opendatasets in /usr/local/lib/python3.11/dist-packages (0.1.22)\n",
            "Requirement already satisfied: tqdm in /usr/local/lib/python3.11/dist-packages (from opendatasets) (4.67.1)\n",
            "Requirement already satisfied: kaggle in /usr/local/lib/python3.11/dist-packages (from opendatasets) (1.6.17)\n",
            "Requirement already satisfied: click in /usr/local/lib/python3.11/dist-packages (from opendatasets) (8.1.8)\n",
            "Requirement already satisfied: six>=1.10 in /usr/local/lib/python3.11/dist-packages (from kaggle->opendatasets) (1.17.0)\n",
            "Requirement already satisfied: certifi>=2023.7.22 in /usr/local/lib/python3.11/dist-packages (from kaggle->opendatasets) (2025.1.31)\n",
            "Requirement already satisfied: python-dateutil in /usr/local/lib/python3.11/dist-packages (from kaggle->opendatasets) (2.8.2)\n",
            "Requirement already satisfied: requests in /usr/local/lib/python3.11/dist-packages (from kaggle->opendatasets) (2.32.3)\n",
            "Requirement already satisfied: python-slugify in /usr/local/lib/python3.11/dist-packages (from kaggle->opendatasets) (8.0.4)\n",
            "Requirement already satisfied: urllib3 in /usr/local/lib/python3.11/dist-packages (from kaggle->opendatasets) (2.3.0)\n",
            "Requirement already satisfied: bleach in /usr/local/lib/python3.11/dist-packages (from kaggle->opendatasets) (6.2.0)\n",
            "Requirement already satisfied: webencodings in /usr/local/lib/python3.11/dist-packages (from bleach->kaggle->opendatasets) (0.5.1)\n",
            "Requirement already satisfied: text-unidecode>=1.3 in /usr/local/lib/python3.11/dist-packages (from python-slugify->kaggle->opendatasets) (1.3)\n",
            "Requirement already satisfied: charset-normalizer<4,>=2 in /usr/local/lib/python3.11/dist-packages (from requests->kaggle->opendatasets) (3.4.1)\n",
            "Requirement already satisfied: idna<4,>=2.5 in /usr/local/lib/python3.11/dist-packages (from requests->kaggle->opendatasets) (3.10)\n",
            "Requirement already satisfied: pandas in /usr/local/lib/python3.11/dist-packages (2.2.2)\n",
            "Requirement already satisfied: numpy>=1.23.2 in /usr/local/lib/python3.11/dist-packages (from pandas) (1.26.4)\n",
            "Requirement already satisfied: python-dateutil>=2.8.2 in /usr/local/lib/python3.11/dist-packages (from pandas) (2.8.2)\n",
            "Requirement already satisfied: pytz>=2020.1 in /usr/local/lib/python3.11/dist-packages (from pandas) (2025.1)\n",
            "Requirement already satisfied: tzdata>=2022.7 in /usr/local/lib/python3.11/dist-packages (from pandas) (2025.1)\n",
            "Requirement already satisfied: six>=1.5 in /usr/local/lib/python3.11/dist-packages (from python-dateutil>=2.8.2->pandas) (1.17.0)\n"
          ]
        }
      ]
    },
    {
      "cell_type": "code",
      "source": [
        "import opendatasets as od\n",
        "import pandas\n",
        "\n",
        "od.download(\n",
        "\t\"https://www.kaggle.com/datasets/pavansanagapati/images-dataset\")\n"
      ],
      "metadata": {
        "colab": {
          "base_uri": "https://localhost:8080/"
        },
        "id": "4asRZ93NLMlo",
        "outputId": "2e622581-ebac-4060-e532-02ebddcd9261"
      },
      "execution_count": 31,
      "outputs": [
        {
          "output_type": "stream",
          "name": "stdout",
          "text": [
            "Skipping, found downloaded files in \"./images-dataset\" (use force=True to force download)\n"
          ]
        }
      ]
    },
    {
      "cell_type": "markdown",
      "source": [
        "## Run model demo"
      ],
      "metadata": {
        "id": "bmDc2EnbLrsd"
      }
    },
    {
      "cell_type": "code",
      "execution_count": 32,
      "metadata": {
        "colab": {
          "base_uri": "https://localhost:8080/"
        },
        "id": "DObe3PAUH28Y",
        "outputId": "4a7a6b2d-2780-4b76-f163-80ee19e649e7"
      },
      "outputs": [
        {
          "output_type": "stream",
          "name": "stdout",
          "text": [
            "31.9% that image 0 is 'a photo of 2 cats'\n"
          ]
        }
      ],
      "source": [
        "from PIL import Image\n",
        "import requests\n",
        "from transformers import AutoProcessor, AutoModel\n",
        "import torch\n",
        "\n",
        "model = AutoModel.from_pretrained(\"google/siglip-base-patch16-224\")\n",
        "processor = AutoProcessor.from_pretrained(\"google/siglip-base-patch16-224\")\n",
        "\n",
        "url = \"http://images.cocodataset.org/val2017/000000039769.jpg\"\n",
        "image = Image.open(requests.get(url, stream=True).raw)\n",
        "\n",
        "texts = [\"a photo of 2 cats\", \"a photo of 2 dogs\"]\n",
        "inputs = processor(text=texts, images=image, padding=\"max_length\", return_tensors=\"pt\")\n",
        "\n",
        "with torch.no_grad():\n",
        "    outputs = model(**inputs)\n",
        "\n",
        "logits_per_image = outputs.logits_per_image\n",
        "probs = torch.sigmoid(logits_per_image) # these are the probabilities\n",
        "print(f\"{probs[0][0]:.1%} that image 0 is '{texts[0]}'\")\n"
      ]
    },
    {
      "cell_type": "code",
      "source": [
        "# Preprocess image\n",
        "inputs = processor(images=image, return_tensors=\"pt\")\n",
        "\n",
        "# Extract image embeddings\n",
        "with torch.no_grad():\n",
        "    embeddings = model.get_image_features(**inputs)  # Extract raw embeddings\n",
        "\n",
        "# Normalize (optional, depends on use case)\n",
        "embeddings = torch.nn.functional.normalize(embeddings, dim=-1)\n",
        "\n",
        "# Convert to NumPy\n",
        "image_embedding = embeddings.cpu().numpy()\n",
        "\n",
        "print(\"Image Embedding Shape:\", image_embedding.shape)"
      ],
      "metadata": {
        "colab": {
          "base_uri": "https://localhost:8080/"
        },
        "id": "XdWo6M-OH6zu",
        "outputId": "e0b439ef-6acb-4c5a-d9cc-a44f39a5cc29"
      },
      "execution_count": 33,
      "outputs": [
        {
          "output_type": "stream",
          "name": "stdout",
          "text": [
            "Image Embedding Shape: (1, 768)\n"
          ]
        }
      ]
    },
    {
      "cell_type": "markdown",
      "source": [
        "## Embed"
      ],
      "metadata": {
        "id": "kR3aHO4VLz7Z"
      }
    },
    {
      "cell_type": "code",
      "source": [
        "## Move model to GPU\n",
        "device = torch.device(\"cuda\" if torch.cuda.is_available() else \"cpu\")\n",
        "model = model.to(device)"
      ],
      "metadata": {
        "id": "HU7lSg4zgEi6"
      },
      "execution_count": 34,
      "outputs": []
    },
    {
      "cell_type": "code",
      "source": [
        "import os\n",
        "from glob import glob\n",
        "from tqdm import tqdm\n",
        "\n",
        "def retrieve_images(image_dir):\n",
        "    image_paths = glob(os.path.join(image_dir, '**', '*bmp'), recursive=True)\n",
        "    return image_paths\n",
        "\n",
        "def generate_embeddings_image(model, processor, image_paths):\n",
        "    embeddings = []\n",
        "\n",
        "    for image_path in tqdm(image_paths, desc=\"Processing Images\"):\n",
        "        image = Image.open(image_path)\n",
        "        inputs = processor(images=image,padding=\"max_length\", return_tensors=\"pt\").to(device)\n",
        "\n",
        "        with torch.no_grad():\n",
        "            image_embedding = model.get_image_features(**inputs)\n",
        "            torch.nn.functional.normalize(image_embedding, dim=-1)\n",
        "            embeddings.append(image_embedding[0])\n",
        "\n",
        "    return embeddings\n",
        "\n",
        "def generate_embeddings_text(model, processor, texts):\n",
        "    embeddings = []\n",
        "\n",
        "    for query in tqdm(texts, desc=\"Processing Texts\"):\n",
        "        inputs = processor(text=query, return_tensors=\"pt\").to(device)\n",
        "\n",
        "        with torch.no_grad():\n",
        "            text_embedding = model.get_text_features(**inputs)\n",
        "            torch.nn.functional.normalize(text_embedding, dim=-1)\n",
        "            embeddings.append(text_embedding[0])\n",
        "    return embeddings"
      ],
      "metadata": {
        "id": "rARb-VCrL7eQ"
      },
      "execution_count": 35,
      "outputs": []
    },
    {
      "cell_type": "code",
      "source": [
        "IMAGES_DIR = \"/content/images-dataset/data\"\n",
        "image_paths = retrieve_images(IMAGES_DIR)\n",
        "embeddings = generate_embeddings_image(model, processor, image_paths)"
      ],
      "metadata": {
        "colab": {
          "base_uri": "https://localhost:8080/"
        },
        "id": "Z_20cfl3h_A3",
        "outputId": "7b0a2e1d-8b7e-42d9-98bd-a8a75f82a1d3"
      },
      "execution_count": 36,
      "outputs": [
        {
          "output_type": "stream",
          "name": "stderr",
          "text": [
            "Processing Images: 100%|██████████| 1570/1570 [00:55<00:00, 28.07it/s]\n"
          ]
        }
      ]
    },
    {
      "cell_type": "markdown",
      "source": [
        "## Store FAISS Vector DB"
      ],
      "metadata": {
        "id": "xMTodAIKlNxm"
      }
    },
    {
      "cell_type": "code",
      "source": [
        "import faiss\n",
        "import numpy as np\n",
        "\n",
        "def create_faiss_index(embeddings, image_paths, output_path):\n",
        "  embeddings = [t.cpu().numpy() for t in embeddings]\n",
        "\n",
        "  dimension = len(embeddings[0])\n",
        "  index = faiss.IndexFlatIP(dimension)\n",
        "  index = faiss.IndexIDMap(index)\n",
        "  print(\"Dimension: \", dimension)\n",
        "  print(\"Dimension Shape: \", embeddings[0].shape)\n",
        "\n",
        "  vectors = np.array(embeddings).astype(np.float32)\n",
        "\n",
        "  # Add vectors to index with IDs\n",
        "  index.add_with_ids(vectors, np.array(range(len(embeddings))))\n",
        "\n",
        "  # Save index to disk\n",
        "  faiss.write_index(index, output_path)\n",
        "  print(f\"Index saved to {output_path}\")\n",
        "\n",
        "  # Save image paths\n",
        "  with open(output_path + '.paths', 'w') as f:\n",
        "      for path in image_paths:\n",
        "          f.write(path + '\\n')\n",
        "  return index"
      ],
      "metadata": {
        "id": "wn9FpZk0i-4Y"
      },
      "execution_count": 37,
      "outputs": []
    },
    {
      "cell_type": "code",
      "source": [
        "OUTPUT_PATH = \"/content/index.faiss\"\n",
        "index = create_faiss_index(embeddings, image_paths, OUTPUT_PATH)"
      ],
      "metadata": {
        "colab": {
          "base_uri": "https://localhost:8080/"
        },
        "id": "ZbRHJA0lklcY",
        "outputId": "9dbd34ee-6b6e-49c1-9365-88466c5defa0"
      },
      "execution_count": 38,
      "outputs": [
        {
          "output_type": "stream",
          "name": "stdout",
          "text": [
            "Dimension:  768\n",
            "Dimension Shape:  (768,)\n",
            "Index saved to /content/index.faiss\n"
          ]
        }
      ]
    },
    {
      "cell_type": "markdown",
      "source": [
        "# Inference"
      ],
      "metadata": {
        "id": "xP4r_xj6tk_s"
      }
    },
    {
      "cell_type": "markdown",
      "source": [
        "## Load VectorDB"
      ],
      "metadata": {
        "id": "6SHwmMuqts2d"
      }
    },
    {
      "cell_type": "code",
      "source": [
        "import matplotlib.pyplot as plt\n",
        "\n",
        "def load_faiss_index(index_path):\n",
        "  index = faiss.read_index(index_path)\n",
        "  return index\n",
        "\n",
        "def load_faiss_image_paths(index_path):\n",
        "  \"\"\"\n",
        "  Load the image paths associated with FAISS index\n",
        "  \"\"\"\n",
        "  with open(index_path + '.paths', 'r') as f:\n",
        "      image_paths = f.read().splitlines()\n",
        "  return image_paths"
      ],
      "metadata": {
        "id": "2k0lbX35kyK8"
      },
      "execution_count": 38,
      "outputs": []
    }
  ]
}